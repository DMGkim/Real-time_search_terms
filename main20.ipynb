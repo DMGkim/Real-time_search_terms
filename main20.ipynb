{
 "cells": [
  {
   "cell_type": "code",
   "execution_count": 1,
   "metadata": {},
   "outputs": [
    {
     "name": "stdout",
     "output_type": "stream",
     "text": [
      "\n"
     ]
    },
    {
     "name": "stderr",
     "output_type": "stream",
     "text": [
      "/var/folders/30/2s_1m6gn3w56117y3r2p9nqh0000gp/T/ipykernel_11331/1716444132.py:4: DeprecationWarning: executable_path has been deprecated, please pass in a Service object\n",
      "  driver = webdriver.Chrome(ChromeDriverManager().install())\n"
     ]
    }
   ],
   "source": [
    "from webdriver_manager.chrome import ChromeDriverManager\n",
    "from selenium import webdriver\n",
    "\n",
    "driver = webdriver.Chrome(ChromeDriverManager().install())\n",
    "\n",
    "URL='https://www.google.co.kr'\n",
    "driver.get(url=URL)\n",
    "driver.implicitly_wait(time_to_wait=10)"
   ]
  },
  {
   "cell_type": "code",
   "execution_count": 2,
   "metadata": {},
   "outputs": [
    {
     "ename": "AttributeError",
     "evalue": "'WebDriver' object has no attribute 'find_elements_by_css_selector'",
     "output_type": "error",
     "traceback": [
      "\u001b[0;31m---------------------------------------------------------------------------\u001b[0m",
      "\u001b[0;31mAttributeError\u001b[0m                            Traceback (most recent call last)",
      "\u001b[1;32m/Users/Kimseungsu/Downloads/파이썬과 40개의 작품들_코드/20. 실시간검색어모아보기/main20.ipynb Cell 2'\u001b[0m in \u001b[0;36m<cell line: 5>\u001b[0;34m()\u001b[0m\n\u001b[1;32m      <a href='vscode-notebook-cell:/Users/Kimseungsu/Downloads/%ED%8C%8C%EC%9D%B4%EC%8D%AC%EA%B3%BC%2040%EA%B0%9C%EC%9D%98%20%EC%9E%91%ED%92%88%EB%93%A4_%EC%BD%94%EB%93%9C/20.%20%EC%8B%A4%EC%8B%9C%EA%B0%84%EA%B2%80%EC%83%89%EC%96%B4%EB%AA%A8%EC%95%84%EB%B3%B4%EA%B8%B0/main20.ipynb#ch0000001?line=1'>2</a>\u001b[0m driver\u001b[39m.\u001b[39mget(url\u001b[39m=\u001b[39mURL)\n\u001b[1;32m      <a href='vscode-notebook-cell:/Users/Kimseungsu/Downloads/%ED%8C%8C%EC%9D%B4%EC%8D%AC%EA%B3%BC%2040%EA%B0%9C%EC%9D%98%20%EC%9E%91%ED%92%88%EB%93%A4_%EC%BD%94%EB%93%9C/20.%20%EC%8B%A4%EC%8B%9C%EA%B0%84%EA%B2%80%EC%83%89%EC%96%B4%EB%AA%A8%EC%95%84%EB%B3%B4%EA%B8%B0/main20.ipynb#ch0000001?line=2'>3</a>\u001b[0m driver\u001b[39m.\u001b[39mimplicitly_wait(time_to_wait\u001b[39m=\u001b[39m\u001b[39m10\u001b[39m) \n\u001b[0;32m----> <a href='vscode-notebook-cell:/Users/Kimseungsu/Downloads/%ED%8C%8C%EC%9D%B4%EC%8D%AC%EA%B3%BC%2040%EA%B0%9C%EC%9D%98%20%EC%9E%91%ED%92%88%EB%93%A4_%EC%BD%94%EB%93%9C/20.%20%EC%8B%A4%EC%8B%9C%EA%B0%84%EA%B2%80%EC%83%89%EC%96%B4%EB%AA%A8%EC%95%84%EB%B3%B4%EA%B8%B0/main20.ipynb#ch0000001?line=4'>5</a>\u001b[0m naver_results \u001b[39m=\u001b[39m driver\u001b[39m.\u001b[39;49mfind_elements_by_css_selector(\u001b[39m'\u001b[39m\u001b[39m#app > div > main > div > section > section:nth-child(2) > div.realtime-rank > div > div > a > span.rank-text\u001b[39m\u001b[39m'\u001b[39m)\n\u001b[1;32m      <a href='vscode-notebook-cell:/Users/Kimseungsu/Downloads/%ED%8C%8C%EC%9D%B4%EC%8D%AC%EA%B3%BC%2040%EA%B0%9C%EC%9D%98%20%EC%9E%91%ED%92%88%EB%93%A4_%EC%BD%94%EB%93%9C/20.%20%EC%8B%A4%EC%8B%9C%EA%B0%84%EA%B2%80%EC%83%89%EC%96%B4%EB%AA%A8%EC%95%84%EB%B3%B4%EA%B8%B0/main20.ipynb#ch0000001?line=6'>7</a>\u001b[0m naver_list \u001b[39m=\u001b[39m []\n\u001b[1;32m      <a href='vscode-notebook-cell:/Users/Kimseungsu/Downloads/%ED%8C%8C%EC%9D%B4%EC%8D%AC%EA%B3%BC%2040%EA%B0%9C%EC%9D%98%20%EC%9E%91%ED%92%88%EB%93%A4_%EC%BD%94%EB%93%9C/20.%20%EC%8B%A4%EC%8B%9C%EA%B0%84%EA%B2%80%EC%83%89%EC%96%B4%EB%AA%A8%EC%95%84%EB%B3%B4%EA%B8%B0/main20.ipynb#ch0000001?line=7'>8</a>\u001b[0m \u001b[39mfor\u001b[39;00m naver_result \u001b[39min\u001b[39;00m naver_results:\n",
      "\u001b[0;31mAttributeError\u001b[0m: 'WebDriver' object has no attribute 'find_elements_by_css_selector'"
     ]
    }
   ],
   "source": [
    "URL='https://signal.bz/news'\n",
    "driver.get(url=URL)\n",
    "driver.implicitly_wait(time_to_wait=10) \n",
    "\n",
    "naver_results = driver.find_elements_by_css_selector('#app > div > main > div > section > section:nth-child(2) > div.realtime-rank > div > div > a > span.rank-text')\n",
    "\n",
    "naver_list = []\n",
    "for naver_result in naver_results:\n",
    "    print(naver_result.text)\n",
    "    naver_list.append(naver_result.text)"
   ]
  },
  {
   "cell_type": "code",
   "execution_count": null,
   "metadata": {},
   "outputs": [
    {
     "name": "stderr",
     "output_type": "stream",
     "text": [
      "<ipython-input-16-6d6801abf5ef>:5: DeprecationWarning: find_element_by_* commands are deprecated. Please use find_element() instead\n",
      "  driver.find_element_by_css_selector('#olLiveIssueKeyword > li:nth-child(1) > a > span.txt_rank').click()\n"
     ]
    },
    {
     "name": "stdout",
     "output_type": "stream",
     "text": [
      "손담비 이규혁 3개월\n",
      "조동연\n",
      "물가 3.7%↑, 상승\n",
      "5266명 위중증 733명\n",
      "오미크론\n",
      "방탄소년단 하이브 주식\n",
      "김동은\n",
      "\n",
      "\n",
      "\n"
     ]
    },
    {
     "name": "stderr",
     "output_type": "stream",
     "text": [
      "<ipython-input-16-6d6801abf5ef>:7: DeprecationWarning: find_elements_by_* commands are deprecated. Please use find_elements() instead\n",
      "  nate_results = driver.find_elements_by_css_selector('#search-option > form:nth-child(1) > fieldset > div.issue-kwd > span > a')\n"
     ]
    }
   ],
   "source": [
    "URL='https://www.nate.com'\n",
    "driver.get(url=URL)\n",
    "driver.implicitly_wait(time_to_wait=10)\n",
    "\n",
    "driver.find_element_by_css_selector('#olLiveIssueKeyword > li:nth-child(1) > a > span.txt_rank').click()\n",
    "\n",
    "nate_results = driver.find_elements_by_css_selector('#search-option > form:nth-child(1) > fieldset > div.issue-kwd > span > a')\n",
    "\n",
    "nate_list = []\n",
    "for nate_result in nate_results:\n",
    "    print(nate_result.text)\n",
    "    nate_list.append(nate_result.text)"
   ]
  },
  {
   "cell_type": "code",
   "execution_count": 3,
   "metadata": {},
   "outputs": [
    {
     "ename": "AttributeError",
     "evalue": "'WebDriver' object has no attribute 'find_element_by_css_selector'",
     "output_type": "error",
     "traceback": [
      "\u001b[0;31m---------------------------------------------------------------------------\u001b[0m",
      "\u001b[0;31mAttributeError\u001b[0m                            Traceback (most recent call last)",
      "\u001b[1;32m/Users/Kimseungsu/Downloads/파이썬과 40개의 작품들_코드/20. 실시간검색어모아보기/main20.ipynb Cell 4'\u001b[0m in \u001b[0;36m<cell line: 7>\u001b[0;34m()\u001b[0m\n\u001b[1;32m      <a href='vscode-notebook-cell:/Users/Kimseungsu/Downloads/%ED%8C%8C%EC%9D%B4%EC%8D%AC%EA%B3%BC%2040%EA%B0%9C%EC%9D%98%20%EC%9E%91%ED%92%88%EB%93%A4_%EC%BD%94%EB%93%9C/20.%20%EC%8B%A4%EC%8B%9C%EA%B0%84%EA%B2%80%EC%83%89%EC%96%B4%EB%AA%A8%EC%95%84%EB%B3%B4%EA%B8%B0/main20.ipynb#ch0000003?line=3'>4</a>\u001b[0m driver\u001b[39m.\u001b[39mget(url\u001b[39m=\u001b[39mURL)\n\u001b[1;32m      <a href='vscode-notebook-cell:/Users/Kimseungsu/Downloads/%ED%8C%8C%EC%9D%B4%EC%8D%AC%EA%B3%BC%2040%EA%B0%9C%EC%9D%98%20%EC%9E%91%ED%92%88%EB%93%A4_%EC%BD%94%EB%93%9C/20.%20%EC%8B%A4%EC%8B%9C%EA%B0%84%EA%B2%80%EC%83%89%EC%96%B4%EB%AA%A8%EC%95%84%EB%B3%B4%EA%B8%B0/main20.ipynb#ch0000003?line=4'>5</a>\u001b[0m driver\u001b[39m.\u001b[39mimplicitly_wait(time_to_wait\u001b[39m=\u001b[39m\u001b[39m10\u001b[39m) \n\u001b[0;32m----> <a href='vscode-notebook-cell:/Users/Kimseungsu/Downloads/%ED%8C%8C%EC%9D%B4%EC%8D%AC%EA%B3%BC%2040%EA%B0%9C%EC%9D%98%20%EC%9E%91%ED%92%88%EB%93%A4_%EC%BD%94%EB%93%9C/20.%20%EC%8B%A4%EC%8B%9C%EA%B0%84%EA%B2%80%EC%83%89%EC%96%B4%EB%AA%A8%EC%95%84%EB%B3%B4%EA%B8%B0/main20.ipynb#ch0000003?line=6'>7</a>\u001b[0m driver\u001b[39m.\u001b[39;49mfind_element_by_css_selector(\u001b[39m'\u001b[39m\u001b[39m#app > div > header > div.search_bar > div > fieldset > div > input[type=text]\u001b[39m\u001b[39m'\u001b[39m)\u001b[39m.\u001b[39msend_keys(\u001b[39m\"\u001b[39m\u001b[39m아무거나 검색\u001b[39m\u001b[39m\"\u001b[39m)\n\u001b[1;32m      <a href='vscode-notebook-cell:/Users/Kimseungsu/Downloads/%ED%8C%8C%EC%9D%B4%EC%8D%AC%EA%B3%BC%2040%EA%B0%9C%EC%9D%98%20%EC%9E%91%ED%92%88%EB%93%A4_%EC%BD%94%EB%93%9C/20.%20%EC%8B%A4%EC%8B%9C%EA%B0%84%EA%B2%80%EC%83%89%EC%96%B4%EB%AA%A8%EC%95%84%EB%B3%B4%EA%B8%B0/main20.ipynb#ch0000003?line=7'>8</a>\u001b[0m time\u001b[39m.\u001b[39msleep(\u001b[39m0.5\u001b[39m)\n\u001b[1;32m      <a href='vscode-notebook-cell:/Users/Kimseungsu/Downloads/%ED%8C%8C%EC%9D%B4%EC%8D%AC%EA%B3%BC%2040%EA%B0%9C%EC%9D%98%20%EC%9E%91%ED%92%88%EB%93%A4_%EC%BD%94%EB%93%9C/20.%20%EC%8B%A4%EC%8B%9C%EA%B0%84%EA%B2%80%EC%83%89%EC%96%B4%EB%AA%A8%EC%95%84%EB%B3%B4%EA%B8%B0/main20.ipynb#ch0000003?line=8'>9</a>\u001b[0m driver\u001b[39m.\u001b[39mfind_element_by_css_selector(\u001b[39m'\u001b[39m\u001b[39m#app > div > header > div.search_bar > div > fieldset > div > button.search\u001b[39m\u001b[39m'\u001b[39m)\u001b[39m.\u001b[39mclick()\n",
      "\u001b[0;31mAttributeError\u001b[0m: 'WebDriver' object has no attribute 'find_element_by_css_selector'"
     ]
    }
   ],
   "source": [
    "import time\n",
    "\n",
    "URL='https://zum.com'\n",
    "driver.get(url=URL)\n",
    "driver.implicitly_wait(time_to_wait=10) \n",
    "\n",
    "driver.find_element_by_css_selector('#app > div > header > div.search_bar > div > fieldset > div > input[type=text]').send_keys(\"아무거나 검색\")\n",
    "time.sleep(0.5)\n",
    "driver.find_element_by_css_selector('#app > div > header > div.search_bar > div > fieldset > div > button.search').click()\n",
    "time.sleep(1)\n",
    "\n",
    "zoom_results = driver.find_elements_by_css_selector('#issue_wrap > ul > li > div > a:nth-child(1) > span.txt')\n",
    "\n",
    "zoom_list = []\n",
    "for zoom_result in zoom_results:\n",
    "    print(zoom_result.text)\n",
    "    zoom_list.append(zoom_result.text)"
   ]
  },
  {
   "cell_type": "code",
   "execution_count": 4,
   "metadata": {},
   "outputs": [
    {
     "ename": "NameError",
     "evalue": "name 'naver_list' is not defined",
     "output_type": "error",
     "traceback": [
      "\u001b[0;31m---------------------------------------------------------------------------\u001b[0m",
      "\u001b[0;31mNameError\u001b[0m                                 Traceback (most recent call last)",
      "\u001b[1;32m/Users/Kimseungsu/Downloads/파이썬과 40개의 작품들_코드/20. 실시간검색어모아보기/main20.ipynb Cell 5'\u001b[0m in \u001b[0;36m<cell line: 1>\u001b[0;34m()\u001b[0m\n\u001b[0;32m----> <a href='vscode-notebook-cell:/Users/Kimseungsu/Downloads/%ED%8C%8C%EC%9D%B4%EC%8D%AC%EA%B3%BC%2040%EA%B0%9C%EC%9D%98%20%EC%9E%91%ED%92%88%EB%93%A4_%EC%BD%94%EB%93%9C/20.%20%EC%8B%A4%EC%8B%9C%EA%B0%84%EA%B2%80%EC%83%89%EC%96%B4%EB%AA%A8%EC%95%84%EB%B3%B4%EA%B8%B0/main20.ipynb#ch0000004?line=0'>1</a>\u001b[0m \u001b[39mprint\u001b[39m(\u001b[39m\"\u001b[39m\u001b[39m네이버\u001b[39m\u001b[39m\"\u001b[39m,naver_list)\n\u001b[1;32m      <a href='vscode-notebook-cell:/Users/Kimseungsu/Downloads/%ED%8C%8C%EC%9D%B4%EC%8D%AC%EA%B3%BC%2040%EA%B0%9C%EC%9D%98%20%EC%9E%91%ED%92%88%EB%93%A4_%EC%BD%94%EB%93%9C/20.%20%EC%8B%A4%EC%8B%9C%EA%B0%84%EA%B2%80%EC%83%89%EC%96%B4%EB%AA%A8%EC%95%84%EB%B3%B4%EA%B8%B0/main20.ipynb#ch0000004?line=1'>2</a>\u001b[0m \u001b[39mprint\u001b[39m(\u001b[39m\"\u001b[39m\u001b[39m네이트\u001b[39m\u001b[39m\"\u001b[39m,nate_list)\n\u001b[1;32m      <a href='vscode-notebook-cell:/Users/Kimseungsu/Downloads/%ED%8C%8C%EC%9D%B4%EC%8D%AC%EA%B3%BC%2040%EA%B0%9C%EC%9D%98%20%EC%9E%91%ED%92%88%EB%93%A4_%EC%BD%94%EB%93%9C/20.%20%EC%8B%A4%EC%8B%9C%EA%B0%84%EA%B2%80%EC%83%89%EC%96%B4%EB%AA%A8%EC%95%84%EB%B3%B4%EA%B8%B0/main20.ipynb#ch0000004?line=2'>3</a>\u001b[0m \u001b[39mprint\u001b[39m(\u001b[39m\"\u001b[39m\u001b[39m줌\u001b[39m\u001b[39m\"\u001b[39m,zoom_list)\n",
      "\u001b[0;31mNameError\u001b[0m: name 'naver_list' is not defined"
     ]
    }
   ],
   "source": [
    "print(\"네이버\",naver_list)\n",
    "print(\"네이트\",nate_list)\n",
    "print(\"줌\",zoom_list)"
   ]
  }
 ],
 "metadata": {
  "interpreter": {
   "hash": "b0fa6594d8f4cbf19f97940f81e996739fb7646882a419484c72d19e05852a7e"
  },
  "kernelspec": {
   "display_name": "Python 3.9.13 64-bit",
   "language": "python",
   "name": "python3"
  },
  "language_info": {
   "codemirror_mode": {
    "name": "ipython",
    "version": 3
   },
   "file_extension": ".py",
   "mimetype": "text/x-python",
   "name": "python",
   "nbconvert_exporter": "python",
   "pygments_lexer": "ipython3",
   "version": "3.9.13"
  },
  "orig_nbformat": 4
 },
 "nbformat": 4,
 "nbformat_minor": 2
}
